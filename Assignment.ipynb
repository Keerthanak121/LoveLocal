EASY 1
def length_of_last_word(s):
    words = s.split()
    return len(words[-1])
print(length_of_last_word("Hello World"))
print(length_of_last_word("   fly me   to   the moon  "))
print(length_of_last_word("luffy is still joyboy")) 

EASY 2
class TreeNode:
    def __init__(self, val=0, left=None, right=None):
        self.val = val
        self.left = left
        self.right = right

def sorted_array_to_bst(nums):
    if not nums:
        return None
    
    mid = len(nums) // 2
    root = TreeNode(nums[mid])
    root.left = sorted_array_to_bst(nums[:mid])
    root.right = sorted_array_to_bst(nums[mid+1:])
    
    return root

nums1 = [-10, -3, 0, 5, 9]
nums2 = [1, 3]
print(sorted_array_to_bst(nums1).val) 
print(sorted_array_to_bst(nums2).val) 

EASY 3
def generate_pascals_triangle(numRows):
    triangle = []
    for i in range(numRows):
        row = [1] * (i + 1)
        for j in range(1, i):
            row[j] = triangle[i-1][j-1] + triangle[i-1][j]
        triangle.append(row)
    return triangle
print(generate_pascals_triangle(5)) 
print(generate_pascals_triangle(1)) 

MEDIUM 1
class TreeNode:
    def __init__(self, val=0, left=None, right=None):
        self.val = val
        self.left = left
        self.right = right

def lowest_common_ancestor(root, p, q):
    if root.val > p.val and root.val > q.val:
        return lowest_common_ancestor(root.left, p, q)
    elif root.val < p.val and root.val < q.val:
        return lowest_common_ancestor(root.right, p, q)
    else:
        return root.val
root = TreeNode(6)
root.left = TreeNode(2)
root.right = TreeNode(8)
root.left.left = TreeNode(0)
root.left.right = TreeNode(4)
root.right.left = TreeNode(7)
root.right.right = TreeNode(9)
root.left.right.left = TreeNode(3)
root.left.right.right = TreeNode(5)
print(lowest_common_ancestor(root, TreeNode(2), TreeNode(8))) 
print(lowest_common_ancestor(root, TreeNode(2), TreeNode(4)))  

MEDIUM 2
def majority_elements(nums):
    from collections import Counter    
    n = len(nums)
    count = Counter(nums)
    result = [num for num, freq in count.items() if freq > n // 3]  
    return result
nums1 = [3, 2, 3]
nums2 = [1]
nums3 = [1, 2]
print(majority_elements(nums1)) 
print(majority_elements(nums2)) 
print(majority_elements(nums3)) 

MEDIUM 3
def maximal_square(matrix):
    if not matrix:
        return 0

    m, n = len(matrix), len(matrix[0])
    dp = [[0] * (n + 1) for _ in range(m + 1)]
    max_side = 0

    for i in range(1, m + 1):
        for j in range(1, n + 1):
            if matrix[i - 1][j - 1] == '1':
                dp[i][j] = min(dp[i - 1][j], dp[i][j - 1], dp[i - 1][j - 1]) + 1
                max_side = max(max_side, dp[i][j])

    return max_side * max_side
matrix1 = [["0"]]
matrix2 = [["0", "1"], ["1", "0"]]
matrix3 = [["1", "0", "1", "0", "0"], ["1", "0", "1", "1", "1"], ["1", "1", "1", "1", "1"], ["1", "0", "0", "1", "0"]]
print(maximal_square(matrix1))  print(maximal_square(matrix2)) 
print(maximal_square(matrix3)) 

HARD 1
from collections import deque

def max_sliding_window(nums, k):
    result = []
    max_queue = deque()

    for i in range(len(nums)):
        while max_queue and nums[i] >= nums[max_queue[-1]]:
            max_queue.pop()
        max_queue.append(i)

        if i - max_queue[0] + 1 > k:
            max_queue.popleft()

        if i + 1 >= k:
            result.append(nums[max_queue[0]])

    return result
nums1 = [1]
k1 = 1
nums2 = [1, 3, -1, -3, 5, 3, 6, 7]
k2 = 3
print(max_sliding_window(nums1, k1)) 
print(max_sliding_window(nums2, k2)) 


HARD 2
def shortest_palindrome(s):
    rev_s = s[::-1]
    for i in range(len(s) + 1):
        if s.startswith(rev_s[i:]):
            return rev_s[:i] + s
s1 = "aacecaaa"
s2 = "abcd"
print(shortest_palindrome(s1))
print(shortest_palindrome(s2)) 


HARD 3
def count_digit_one(n):
    count = 0
    factor = 1
    i = 1

    while i <= n:
        divider = i * 10
        count += (n // divider) * i + min(max(n % divider - i + 1, 0), i)
        i *= 10

    return count

# Test cases
n1 = 13
n2 = 0
print(count_digit_one(n1))
print(count_digit_one(n2)) 
